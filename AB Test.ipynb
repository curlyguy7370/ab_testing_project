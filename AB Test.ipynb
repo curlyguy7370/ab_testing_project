{
 "cells": [
  {
   "cell_type": "code",
   "execution_count": 2,
   "id": "3592c086",
   "metadata": {},
   "outputs": [],
   "source": [
    "import numpy as np\n",
    "import pandas as pd\n",
    "from statsmodels.stats.proportion import proportions_ztest"
   ]
  },
  {
   "cell_type": "markdown",
   "id": "98610652",
   "metadata": {},
   "source": [
    "Let's read the data from our dataset and load it into a DataFrame, specifying that columns in the CSV are separated by semicolons:"
   ]
  },
  {
   "cell_type": "code",
   "execution_count": 3,
   "id": "e33835d6",
   "metadata": {},
   "outputs": [],
   "source": [
    "df = pd.read_csv(\"ab_test.csv\", sep=\";\", encoding=\"utf-8\")"
   ]
  },
  {
   "cell_type": "markdown",
   "id": "fb6f8ef6",
   "metadata": {},
   "source": [
    "Now we ensure that the relvant fields have correct data types (integer) and we extract the list of unique clients:"
   ]
  },
  {
   "cell_type": "code",
   "execution_count": 4,
   "id": "4122fade",
   "metadata": {},
   "outputs": [],
   "source": [
    "df[\"Month\"] = df[\"Month\"].astype(int)\n",
    "df[\"Year\"] = df[\"Year\"].astype(int)\n",
    "\n",
    "clients = df[\"Client\"].unique()"
   ]
  },
  {
   "cell_type": "markdown",
   "id": "ffd70f75",
   "metadata": {},
   "source": [
    "Then we prepare the list to hold the results and set the significance level:"
   ]
  },
  {
   "cell_type": "code",
   "execution_count": 5,
   "id": "7e133d3f",
   "metadata": {},
   "outputs": [],
   "source": [
    "results = []\n",
    "alpha = 0.05"
   ]
  },
  {
   "cell_type": "markdown",
   "id": "e7974df8",
   "metadata": {},
   "source": [
    "Now let's define our function to perform A/B test on proportions:"
   ]
  },
  {
   "cell_type": "code",
   "execution_count": 6,
   "id": "f5afbac8",
   "metadata": {},
   "outputs": [],
   "source": [
    "def ab_test_proportions(x_con, N_con, x_exp, N_exp, alpha=0.05, alternative='two-sided'):\n",
    "\n",
    "    # Prepare the vectors as required by statsmodels\n",
    "    X = np.array([x_con, x_exp])\n",
    "    N = np.array([N_con, N_exp])\n",
    "    \n",
    "    # Perform the z-test\n",
    "    z_stat, p_value = proportions_ztest(count=X,\n",
    "                                        nobs=N,\n",
    "                                        alternative=alternative,\n",
    "                                        prop_var=False)\n",
    "    # Evaluate the null hypothesis:\n",
    "    reject_null = (p_value <= alpha)\n",
    "\n",
    "    return {\n",
    "        \"z_stat\": z_stat,\n",
    "        \"p_value\": p_value,\n",
    "        \"reject_null\": reject_null,\n",
    "  }\n"
   ]
  },
  {
   "cell_type": "markdown",
   "id": "432f808d",
   "metadata": {},
   "source": [
    "Now we loop through each customer, extracting their respective data and performing the AB Test. In this case we perform the test on the Conversion Rate (Orders / Sessions):"
   ]
  },
  {
   "cell_type": "code",
   "execution_count": 7,
   "id": "382a2666",
   "metadata": {},
   "outputs": [],
   "source": [
    "for client in clients:\n",
    "    # Select the rows for January 2024 and January 2025 for this customer\n",
    "    row_2024 = df[(df[\"Client\"] == client) & (df[\"Year\"] == 2024)]\n",
    "    row_2025 = df[(df[\"Client\"] == client) & (df[\"Year\"] == 2025)]\n",
    "\n",
    "    # Extract number of orders (x_con) and sessions (N_con) for the control group (2024)\n",
    "    x_con = int(row_2024[\"Orders\"].iloc[0])\n",
    "    N_con = int(row_2024[\"Sessions\"].iloc[0])\n",
    "\n",
    "    # Extract number of orders (x_exp) and sessions (N_exp) for the experimental group (2025)\n",
    "    x_exp = int(row_2025[\"Orders\"].iloc[0])\n",
    "    N_exp = int(row_2025[\"Sessions\"].iloc[0])\n",
    "\n",
    "    # Perform the A/B test on proportions\n",
    "    result = ab_test_proportions(x_con, N_con, x_exp, N_exp, alpha=alpha, alternative='two-sided')\n",
    "\n",
    "    # Add the \"Client\" metadata to the result dictionary of that specific client\n",
    "    result[\"Client\"] = client\n",
    "\n",
    "    # Append the result to the results list, which will contain the results for all clients\n",
    "    results.append(result)"
   ]
  },
  {
   "cell_type": "markdown",
   "id": "09566aa8",
   "metadata": {},
   "source": [
    "At this point, in our results list, we have (for each client) p-value, test outcome and client name. Let's convert it into a dataframe, reorder columns for better readability, and print the results:"
   ]
  },
  {
   "cell_type": "code",
   "execution_count": 9,
   "id": "4fddd2dd",
   "metadata": {},
   "outputs": [
    {
     "name": "stdout",
     "output_type": "stream",
     "text": [
      "\n",
      "Conversion Rate A/B Test results:\n",
      "     Client    z_stat       p_value  reject_null\n",
      "  Cool Care -0.006236  9.950247e-01        False\n",
      "     Extend -0.913478  3.609913e-01        False\n",
      " Frank Veil  1.661501  9.661293e-02        False\n",
      "     Komodo 27.701063 6.779286e-169         True\n",
      "  Campari90  4.627506  3.700959e-06         True\n",
      "  Old Angel  3.225563  1.257251e-03         True\n",
      "Saint Louis  0.626956  5.306880e-01        False\n"
     ]
    }
   ],
   "source": [
    "df_results = pd.DataFrame(results)\n",
    "\n",
    "# Let's specify, in this list, the columns we want to keep and their order:\n",
    "final_columns = [\n",
    "    \"Client\",\n",
    "    \"z_stat\", \"p_value\", \"reject_null\"\n",
    "]\n",
    "\n",
    "# Let's create a new DataFrame based on that list and print it:\n",
    "df_results = df_results[final_columns]\n",
    "\n",
    "# Print the results\n",
    "print(\"\\nConversion Rate A/B Test results:\")\n",
    "print(df_results.to_string(index=False))"
   ]
  },
  {
   "cell_type": "markdown",
   "id": "5cb9b925",
   "metadata": {},
   "source": [
    "Just by slightly modifying the last two cells, we can adapt the code to other KPIs and repeat the process for all other metrics on which we have to perform AB Testing."
   ]
  }
 ],
 "metadata": {
  "kernelspec": {
   "display_name": "env",
   "language": "python",
   "name": "python3"
  },
  "language_info": {
   "codemirror_mode": {
    "name": "ipython",
    "version": 3
   },
   "file_extension": ".py",
   "mimetype": "text/x-python",
   "name": "python",
   "nbconvert_exporter": "python",
   "pygments_lexer": "ipython3",
   "version": "3.11.4"
  }
 },
 "nbformat": 4,
 "nbformat_minor": 5
}
